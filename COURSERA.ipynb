{
 "cells": [
  {
   "cell_type": "markdown",
   "id": "ede1c4b9-b3d7-4fb4-9b39-a0faaafc0626",
   "metadata": {},
   "source": [
    "# Data Science Tools and Ecosystem"
   ]
  },
  {
   "cell_type": "markdown",
   "id": "716c2cfd-cd1d-482f-aa45-7d87570fe572",
   "metadata": {
    "jp-MarkdownHeadingCollapsed": true
   },
   "source": [
    "## Introduction\n",
    "\n",
    "In this notebook, Data Science Tools and Ecosystem are summarized.\n"
   ]
  },
  {
   "cell_type": "markdown",
   "id": "30fba1f1-6f0a-4415-821c-905aacac3d89",
   "metadata": {},
   "source": [
    "## Data Science Languages\n",
    "\n",
    "Some of the popular languages that Data Scientists use are:\n",
    "1. Python\n",
    "2. R\n",
    "3. SQL\n",
    "4. Julia\n",
    "5. Scala\n"
   ]
  },
  {
   "cell_type": "markdown",
   "id": "2637288b-b202-4f32-8627-ec6fe72c2b2e",
   "metadata": {},
   "source": [
    "## Data Science Libraries\n",
    "\n",
    "Some of the commonly used libraries used by Data Scientists include:\n",
    "1. Pandas\n",
    "2. NumPy\n",
    "3. Matplotlib\n",
    "4. Scikit-learn\n",
    "5. TensorFlow\n"
   ]
  },
  {
   "cell_type": "markdown",
   "id": "f42bbf2e-1c6b-4c3d-adbc-c71c84e8a59d",
   "metadata": {},
   "source": [
    "## Data Science Tools\n",
    "\n",
    "| Data Science Tools     |\n",
    "|------------------------|\n",
    "| Jupyter Notebook        |\n",
    "| RStudio                |\n",
    "| Apache Zeppelin        |\n"
   ]
  },
  {
   "cell_type": "code",
   "execution_count": 28,
   "id": "cbbc42b0-257c-4082-9451-a40e56ac1a3c",
   "metadata": {},
   "outputs": [
    {
     "data": {
      "text/plain": [
       "17"
      ]
     },
     "execution_count": 28,
     "metadata": {},
     "output_type": "execute_result"
    }
   ],
   "source": [
    "# This is a simple arithmetic expression to multiply then add integers.\n",
    "result = (3 * 4) + 5\n",
    "result  # This should output 17\n"
   ]
  },
  {
   "cell_type": "code",
   "execution_count": 30,
   "id": "bb31b175-fee5-415f-ac9e-006964cded41",
   "metadata": {},
   "outputs": [
    {
     "data": {
      "text/plain": [
       "3.3333333333333335"
      ]
     },
     "execution_count": 30,
     "metadata": {},
     "output_type": "execute_result"
    }
   ],
   "source": [
    "# This will convert 200 minutes to hours by dividing by 60.\n",
    "minutes = 200\n",
    "hours = minutes / 60\n",
    "hours  # This should output approximately 3.33\n"
   ]
  },
  {
   "cell_type": "markdown",
   "id": "62db960b-85c1-4cbc-967b-2c98bcaa1ccc",
   "metadata": {},
   "source": [
    "## Objectives\n",
    "\n",
    "**Objectives:**\n",
    "- List popular languages for Data Science.\n",
    "- Identify key libraries used in Data Science.\n",
    "- Understand various Data Science tools.\n"
   ]
  },
  {
   "cell_type": "markdown",
   "id": "c1d12b15-8a5c-4650-995f-ebdff83981ab",
   "metadata": {},
   "source": [
    "## Author\n",
    "\n",
    "QAROUACH FADWA\n"
   ]
  },
  {
   "cell_type": "markdown",
   "id": "c0dc13ff-0520-49c0-b1b0-9d821cd5def1",
   "metadata": {},
   "source": [
    "### Arithmetic Expressions\n",
    "\n",
    "Below are a few examples of evaluating arithmetic expressions in Python.\n"
   ]
  },
  {
   "cell_type": "code",
   "execution_count": null,
   "id": "aa77422f-3e34-4aa7-bf50-b074dd0d8896",
   "metadata": {},
   "outputs": [],
   "source": []
  }
 ],
 "metadata": {
  "kernelspec": {
   "display_name": "Python 3 (ipykernel)",
   "language": "python",
   "name": "python3"
  },
  "language_info": {
   "codemirror_mode": {
    "name": "ipython",
    "version": 3
   },
   "file_extension": ".py",
   "mimetype": "text/x-python",
   "name": "python",
   "nbconvert_exporter": "python",
   "pygments_lexer": "ipython3",
   "version": "3.12.4"
  }
 },
 "nbformat": 4,
 "nbformat_minor": 5
}
